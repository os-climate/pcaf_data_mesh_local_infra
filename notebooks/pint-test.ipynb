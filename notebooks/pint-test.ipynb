{
 "cells": [
  {
   "cell_type": "code",
   "execution_count": 3,
   "id": "885ede0b-31c4-4e50-8e26-0c11586c009a",
   "metadata": {},
   "outputs": [
    {
     "name": "stdout",
     "output_type": "stream",
     "text": [
      "Requirement already satisfied: pandas in /opt/app-root/lib/python3.8/site-packages (1.3.4)\n",
      "Requirement already satisfied: pyarrow in /opt/app-root/lib/python3.8/site-packages (6.0.0)\n",
      "Requirement already satisfied: fastparquet in /opt/app-root/lib/python3.8/site-packages (0.8.0)\n",
      "Requirement already satisfied: pytz>=2017.3 in /opt/app-root/lib/python3.8/site-packages (from pandas) (2021.3)\n",
      "Requirement already satisfied: python-dateutil>=2.7.3 in /opt/app-root/lib/python3.8/site-packages (from pandas) (2.8.2)\n",
      "Requirement already satisfied: numpy>=1.17.3 in /opt/app-root/lib/python3.8/site-packages (from pandas) (1.21.4)\n",
      "Requirement already satisfied: fsspec in /opt/app-root/lib/python3.8/site-packages (from fastparquet) (2022.2.0)\n",
      "Requirement already satisfied: cramjam>=2.3.0 in /opt/app-root/lib/python3.8/site-packages (from fastparquet) (2.5.0)\n",
      "Requirement already satisfied: six>=1.5 in /opt/app-root/lib/python3.8/site-packages (from python-dateutil>=2.7.3->pandas) (1.16.0)\n",
      "\u001b[33mWARNING: You are using pip version 21.3.1; however, version 22.0.4 is available.\n",
      "You should consider upgrading via the '/opt/app-root/bin/python3.8 -m pip install --upgrade pip' command.\u001b[0m\n",
      "Note: you may need to restart the kernel to use updated packages.\n",
      "Collecting pint-pandas\n",
      "  Downloading Pint_Pandas-0.2-py2.py3-none-any.whl (20 kB)\n",
      "Requirement already satisfied: pandas>=1.2 in /opt/app-root/lib/python3.8/site-packages (from pint-pandas) (1.3.4)\n",
      "Collecting pint>=0.17\n",
      "  Downloading Pint-0.18-py2.py3-none-any.whl (209 kB)\n",
      "     |████████████████████████████████| 209 kB 51.9 MB/s            \n",
      "\u001b[?25hRequirement already satisfied: pytz>=2017.3 in /opt/app-root/lib/python3.8/site-packages (from pandas>=1.2->pint-pandas) (2021.3)\n",
      "Requirement already satisfied: python-dateutil>=2.7.3 in /opt/app-root/lib/python3.8/site-packages (from pandas>=1.2->pint-pandas) (2.8.2)\n",
      "Requirement already satisfied: numpy>=1.17.3 in /opt/app-root/lib/python3.8/site-packages (from pandas>=1.2->pint-pandas) (1.21.4)\n",
      "Requirement already satisfied: packaging in /opt/app-root/lib/python3.8/site-packages (from pint>=0.17->pint-pandas) (21.2)\n",
      "Requirement already satisfied: six>=1.5 in /opt/app-root/lib/python3.8/site-packages (from python-dateutil>=2.7.3->pandas>=1.2->pint-pandas) (1.16.0)\n",
      "Requirement already satisfied: pyparsing<3,>=2.0.2 in /opt/app-root/lib/python3.8/site-packages (from packaging->pint>=0.17->pint-pandas) (2.4.7)\n",
      "Installing collected packages: pint, pint-pandas\n",
      "Successfully installed pint-0.18 pint-pandas-0.2\n",
      "\u001b[33mWARNING: You are using pip version 21.3.1; however, version 22.0.4 is available.\n",
      "You should consider upgrading via the '/opt/app-root/bin/python3.8 -m pip install --upgrade pip' command.\u001b[0m\n",
      "Note: you may need to restart the kernel to use updated packages.\n",
      "Collecting openscm-units\n",
      "  Downloading openscm_units-0.5.0-py2.py3-none-any.whl (13 kB)\n",
      "Requirement already satisfied: pint in /opt/app-root/lib/python3.8/site-packages (from openscm-units) (0.18)\n",
      "Requirement already satisfied: pandas in /opt/app-root/lib/python3.8/site-packages (from openscm-units) (1.3.4)\n",
      "Collecting globalwarmingpotentials\n",
      "  Downloading globalwarmingpotentials-0.9.3-py2.py3-none-any.whl (12 kB)\n",
      "Requirement already satisfied: python-dateutil>=2.7.3 in /opt/app-root/lib/python3.8/site-packages (from pandas->openscm-units) (2.8.2)\n",
      "Requirement already satisfied: numpy>=1.17.3 in /opt/app-root/lib/python3.8/site-packages (from pandas->openscm-units) (1.21.4)\n",
      "Requirement already satisfied: pytz>=2017.3 in /opt/app-root/lib/python3.8/site-packages (from pandas->openscm-units) (2021.3)\n",
      "Requirement already satisfied: packaging in /opt/app-root/lib/python3.8/site-packages (from pint->openscm-units) (21.2)\n",
      "Requirement already satisfied: six>=1.5 in /opt/app-root/lib/python3.8/site-packages (from python-dateutil>=2.7.3->pandas->openscm-units) (1.16.0)\n",
      "Requirement already satisfied: pyparsing<3,>=2.0.2 in /opt/app-root/lib/python3.8/site-packages (from packaging->pint->openscm-units) (2.4.7)\n",
      "Installing collected packages: globalwarmingpotentials, openscm-units\n",
      "Successfully installed globalwarmingpotentials-0.9.3 openscm-units-0.5.0\n",
      "\u001b[33mWARNING: You are using pip version 21.3.1; however, version 22.0.4 is available.\n",
      "You should consider upgrading via the '/opt/app-root/bin/python3.8 -m pip install --upgrade pip' command.\u001b[0m\n",
      "Note: you may need to restart the kernel to use updated packages.\n"
     ]
    }
   ],
   "source": [
    "# Pandas and parquet file i/o\n",
    "%pip install pandas pyarrow fastparquet\n",
    "%pip install pint-pandas\n",
    "%pip install openscm-units"
   ]
  },
  {
   "cell_type": "code",
   "execution_count": 6,
   "id": "7b00506c-155e-484c-b1a4-0d768a41cdd1",
   "metadata": {},
   "outputs": [
    {
     "name": "stdout",
     "output_type": "stream",
     "text": [
      "1 CO2\n",
      "   Value    Unit\n",
      "0    2.0  Mt CO2\n",
      "0    2000000.0\n",
      "Name: Value, dtype: pint[CO2 * metric_ton]\n"
     ]
    },
    {
     "name": "stderr",
     "output_type": "stream",
     "text": [
      "/opt/app-root/lib64/python3.8/site-packages/pint_pandas/pint_array.py:648: UnitStrippedWarning: The unit of the quantity is stripped when downcasting to ndarray.\n",
      "  return np.array(qtys, dtype=\"object\", copy=copy)\n"
     ]
    },
    {
     "data": {
      "text/plain": [
       "torque                  pint[foot * force_pound]\n",
       "angular_velocity    pint[revolutions_per_minute]\n",
       "dtype: object"
      ]
     },
     "execution_count": 6,
     "metadata": {},
     "output_type": "execute_result"
    }
   ],
   "source": [
    "import pandas as pd\n",
    "import pint_pandas\n",
    "from openscm_units import unit_registry\n",
    "from pint import UnitRegistry\n",
    "\n",
    "ureg = UnitRegistry()\n",
    "\n",
    "ureg.\n",
    "\n",
    "\n",
    "\n",
    "\n",
    "pint_pandas.PintType.ureg = unit_registry\n",
    "\n",
    "\n",
    "\n",
    "one_co2 = unit_registry(\"CO2\")\n",
    "print(one_co2)\n",
    "\n",
    "x = pd.DataFrame([[2.0,'Mt CO2']], columns=['Value', 'Unit'])\n",
    "print(x)\n",
    "x = x.astype({'Value': 'pint[Mt CO2]'})\n",
    "print(x.Value.pint.to('t CO2'))\n",
    "\n",
    "df = pd.DataFrame({\n",
    "    \"torque\": pd.Series([1., 2., 2., 3.], dtype=\"pint[lbf ft]\"),\n",
    "    \"angular_velocity\": pd.Series([1., 2., 2., 3.], dtype=\"pint[rpm]\"),\n",
    "})\n",
    "#df\n",
    "df.dtypes\n"
   ]
  },
  {
   "cell_type": "code",
   "execution_count": null,
   "id": "52044b2b-9f9a-497c-9358-1a336dbf8b34",
   "metadata": {},
   "outputs": [],
   "source": []
  },
  {
   "cell_type": "code",
   "execution_count": null,
   "id": "9d509733-e57b-4d96-b0a6-5d5e8512afe8",
   "metadata": {},
   "outputs": [],
   "source": []
  }
 ],
 "metadata": {
  "kernelspec": {
   "display_name": "Python 3 (ipykernel)",
   "language": "python",
   "name": "python3"
  },
  "language_info": {
   "codemirror_mode": {
    "name": "ipython",
    "version": 3
   },
   "file_extension": ".py",
   "mimetype": "text/x-python",
   "name": "python",
   "nbconvert_exporter": "python",
   "pygments_lexer": "ipython3",
   "version": "3.8.8"
  }
 },
 "nbformat": 4,
 "nbformat_minor": 5
}
