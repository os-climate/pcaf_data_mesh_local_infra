{
 "cells": [
  {
   "cell_type": "code",
   "execution_count": 1,
   "id": "dc41d7e0-c36b-4f55-ad22-5a064dc9e685",
   "metadata": {},
   "outputs": [
    {
     "ename": "KeyError",
     "evalue": "'S3_LANDING_ENDPOINT'",
     "output_type": "error",
     "traceback": [
      "\u001b[0;31m---------------------------------------------------------------------------\u001b[0m",
      "\u001b[0;31mKeyError\u001b[0m                                  Traceback (most recent call last)",
      "Cell \u001b[0;32mIn[1], line 3\u001b[0m\n\u001b[1;32m      1\u001b[0m \u001b[38;5;66;03m# All necessary libraries are installed via `pipenv install` using Pipfile\u001b[39;00m\n\u001b[0;32m----> 3\u001b[0m \u001b[38;5;28;01mfrom\u001b[39;00m \u001b[38;5;21;01mpcaf_env\u001b[39;00m \u001b[38;5;28;01mimport\u001b[39;00m \u001b[38;5;241m*\u001b[39m\n\u001b[1;32m      6\u001b[0m models_table \u001b[38;5;241m=\u001b[39m \u001b[38;5;124m'\u001b[39m\u001b[38;5;124mpcaf_dbt_models\u001b[39m\u001b[38;5;124m'\u001b[39m\n",
      "File \u001b[0;32m~/work/pcaf_env.py:29\u001b[0m\n\u001b[1;32m     23\u001b[0m osc\u001b[38;5;241m.\u001b[39mload_credentials_dotenv()\n\u001b[1;32m     25\u001b[0m \u001b[38;5;28;01mimport\u001b[39;00m \u001b[38;5;21;01mboto3\u001b[39;00m\n\u001b[1;32m     27\u001b[0m s3_source \u001b[38;5;241m=\u001b[39m boto3\u001b[38;5;241m.\u001b[39mresource(\n\u001b[1;32m     28\u001b[0m     service_name\u001b[38;5;241m=\u001b[39m\u001b[38;5;124m\"\u001b[39m\u001b[38;5;124ms3\u001b[39m\u001b[38;5;124m\"\u001b[39m,\n\u001b[0;32m---> 29\u001b[0m     endpoint_url\u001b[38;5;241m=\u001b[39m\u001b[43mos\u001b[49m\u001b[38;5;241;43m.\u001b[39;49m\u001b[43menviron\u001b[49m\u001b[43m[\u001b[49m\u001b[38;5;124;43m'\u001b[39;49m\u001b[38;5;124;43mS3_LANDING_ENDPOINT\u001b[39;49m\u001b[38;5;124;43m'\u001b[39;49m\u001b[43m]\u001b[49m,\n\u001b[1;32m     30\u001b[0m     aws_access_key_id\u001b[38;5;241m=\u001b[39mos\u001b[38;5;241m.\u001b[39menviron[\u001b[38;5;124m'\u001b[39m\u001b[38;5;124mS3_LANDING_ACCESS_KEY\u001b[39m\u001b[38;5;124m'\u001b[39m],\n\u001b[1;32m     31\u001b[0m     aws_secret_access_key\u001b[38;5;241m=\u001b[39mos\u001b[38;5;241m.\u001b[39menviron[\u001b[38;5;124m'\u001b[39m\u001b[38;5;124mS3_LANDING_SECRET_KEY\u001b[39m\u001b[38;5;124m'\u001b[39m],\n\u001b[1;32m     32\u001b[0m )\n\u001b[1;32m     33\u001b[0m source_bucket \u001b[38;5;241m=\u001b[39m s3_source\u001b[38;5;241m.\u001b[39mBucket(os\u001b[38;5;241m.\u001b[39menviron[\u001b[38;5;124m'\u001b[39m\u001b[38;5;124mS3_LANDING_BUCKET\u001b[39m\u001b[38;5;124m'\u001b[39m])\n\u001b[1;32m     35\u001b[0m hive_catalog \u001b[38;5;241m=\u001b[39m \u001b[38;5;124m'\u001b[39m\u001b[38;5;124mosc_datacommons_hive_ingest\u001b[39m\u001b[38;5;124m'\u001b[39m\n",
      "File \u001b[0;32m/opt/conda/lib/python3.8/os.py:675\u001b[0m, in \u001b[0;36m_Environ.__getitem__\u001b[0;34m(self, key)\u001b[0m\n\u001b[1;32m    672\u001b[0m     value \u001b[38;5;241m=\u001b[39m \u001b[38;5;28mself\u001b[39m\u001b[38;5;241m.\u001b[39m_data[\u001b[38;5;28mself\u001b[39m\u001b[38;5;241m.\u001b[39mencodekey(key)]\n\u001b[1;32m    673\u001b[0m \u001b[38;5;28;01mexcept\u001b[39;00m \u001b[38;5;167;01mKeyError\u001b[39;00m:\n\u001b[1;32m    674\u001b[0m     \u001b[38;5;66;03m# raise KeyError with the original key value\u001b[39;00m\n\u001b[0;32m--> 675\u001b[0m     \u001b[38;5;28;01mraise\u001b[39;00m \u001b[38;5;167;01mKeyError\u001b[39;00m(key) \u001b[38;5;28;01mfrom\u001b[39;00m \u001b[38;5;28mNone\u001b[39m\n\u001b[1;32m    676\u001b[0m \u001b[38;5;28;01mreturn\u001b[39;00m \u001b[38;5;28mself\u001b[39m\u001b[38;5;241m.\u001b[39mdecodevalue(value)\n",
      "\u001b[0;31mKeyError\u001b[0m: 'S3_LANDING_ENDPOINT'"
     ]
    }
   ],
   "source": [
    "# All necessary libraries are installed via `pipenv install` using Pipfile\n",
    "\n",
    "from pcaf_env import *\n",
    "\n",
    "\n",
    "models_table = 'pcaf_dbt_models'"
   ]
  },
  {
   "cell_type": "code",
   "execution_count": 15,
   "id": "e44fa75d-6d0b-4a42-ac66-ae5c67ee13b9",
   "metadata": {},
   "outputs": [
    {
     "name": "stdout",
     "output_type": "stream",
     "text": [
      "drop table if exists mdt_sandbox.pcaf_dbt_models\n"
     ]
    }
   ],
   "source": [
    "osc._do_sql(f\"drop table if exists {ingest_schema}.{models_table}\", engine, verbose=True)"
   ]
  },
  {
   "cell_type": "code",
   "execution_count": 20,
   "id": "c8c37754-fc40-42b4-83af-643f5e9f4abb",
   "metadata": {},
   "outputs": [],
   "source": [
    "qres = osc._do_sql(f\"show tables in {ingest_schema}\", engine)"
   ]
  },
  {
   "cell_type": "code",
   "execution_count": 21,
   "id": "7ef8620e-e98e-4da0-857e-59413b7e6c2b",
   "metadata": {},
   "outputs": [],
   "source": [
    "tables_or_views = [result[0] for result in qres if result[0].startswith('pcaf_') or result[0].startswith('sf_')]"
   ]
  },
  {
   "cell_type": "code",
   "execution_count": 22,
   "id": "698c0b06-566e-497f-b33e-da23f26e933d",
   "metadata": {},
   "outputs": [],
   "source": [
    "# Delete the views first, then the underlying data tables\n",
    "\n",
    "for item in tables_or_views:\n",
    "    if item.endswith('_source'):\n",
    "        pass\n",
    "    else:\n",
    "        osc._do_sql(f\"drop view {ingest_schema}.{item}\", engine, verbose=True)\n",
    "\n",
    "for item in tables_or_views:\n",
    "    if item.endswith('_source'):\n",
    "        osc._do_sql(f\"drop table {ingest_schema}.{item}\", engine, verbose=True)"
   ]
  },
  {
   "cell_type": "code",
   "execution_count": 23,
   "id": "f8d3a6b1-d7f4-44c8-a299-4659742e3d70",
   "metadata": {
    "tags": []
   },
   "outputs": [
    {
     "name": "stdout",
     "output_type": "stream",
     "text": [
      "create table mdt_sandbox.pcaf_dbt_models ( json_dict varchar ) \n"
     ]
    }
   ],
   "source": [
    "osc._do_sql(f\"create table {ingest_schema}.{models_table} ( json_dict varchar ) \", engine, verbose=True)"
   ]
  },
  {
   "cell_type": "code",
   "execution_count": null,
   "id": "8a309dc8-44a9-44cd-9024-6c683b75c6d6",
   "metadata": {},
   "outputs": [],
   "source": []
  }
 ],
 "metadata": {
  "kernelspec": {
   "display_name": "Python 3 (ipykernel)",
   "language": "python",
   "name": "python3"
  },
  "language_info": {
   "codemirror_mode": {
    "name": "ipython",
    "version": 3
   },
   "file_extension": ".py",
   "mimetype": "text/x-python",
   "name": "python",
   "nbconvert_exporter": "python",
   "pygments_lexer": "ipython3",
   "version": "3.8.13"
  },
  "toc-autonumbering": true
 },
 "nbformat": 4,
 "nbformat_minor": 5
}
