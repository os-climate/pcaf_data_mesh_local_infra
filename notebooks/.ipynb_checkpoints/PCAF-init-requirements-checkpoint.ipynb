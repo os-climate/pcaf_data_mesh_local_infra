{
 "cells": [
  {
   "cell_type": "code",
   "execution_count": 14,
   "id": "dc41d7e0-c36b-4f55-ad22-5a064dc9e685",
   "metadata": {},
   "outputs": [],
   "source": [
    "# All necessary libraries are installed via `pipenv install` using Pipfile\n",
    "\n",
    "from pcaf_env import *\n",
    "\n",
    "models_table = 'pcaf_dbt_models'"
   ]
  },
  {
   "cell_type": "code",
   "execution_count": 15,
   "id": "e44fa75d-6d0b-4a42-ac66-ae5c67ee13b9",
   "metadata": {},
   "outputs": [
    {
     "name": "stdout",
     "output_type": "stream",
     "text": [
      "drop table if exists mdt_sandbox.pcaf_dbt_models\n"
     ]
    }
   ],
   "source": [
    "osc._do_sql(f\"drop table if exists {ingest_schema}.{models_table}\", engine, verbose=True)"
   ]
  },
  {
   "cell_type": "code",
   "execution_count": 20,
   "id": "c8c37754-fc40-42b4-83af-643f5e9f4abb",
   "metadata": {},
   "outputs": [],
   "source": [
    "qres = osc._do_sql(f\"show tables in {ingest_schema}\", engine)"
   ]
  },
  {
   "cell_type": "code",
   "execution_count": 21,
   "id": "7ef8620e-e98e-4da0-857e-59413b7e6c2b",
   "metadata": {},
   "outputs": [],
   "source": [
    "tables_or_views = [result[0] for result in qres if result[0].startswith('pcaf_') or result[0].startswith('sf_')]"
   ]
  },
  {
   "cell_type": "code",
   "execution_count": 22,
   "id": "698c0b06-566e-497f-b33e-da23f26e933d",
   "metadata": {},
   "outputs": [],
   "source": [
    "# Delete the views first, then the underlying data tables\n",
    "\n",
    "for item in tables_or_views:\n",
    "    if item.endswith('_source'):\n",
    "        pass\n",
    "    else:\n",
    "        osc._do_sql(f\"drop view {ingest_schema}.{item}\", engine, verbose=True)\n",
    "\n",
    "for item in tables_or_views:\n",
    "    if item.endswith('_source'):\n",
    "        osc._do_sql(f\"drop table {ingest_schema}.{item}\", engine, verbose=True)"
   ]
  },
  {
   "cell_type": "code",
   "execution_count": 23,
   "id": "f8d3a6b1-d7f4-44c8-a299-4659742e3d70",
   "metadata": {
    "tags": []
   },
   "outputs": [
    {
     "name": "stdout",
     "output_type": "stream",
     "text": [
      "create table mdt_sandbox.pcaf_dbt_models ( json_dict varchar ) \n"
     ]
    }
   ],
   "source": [
    "osc._do_sql(f\"create table {ingest_schema}.{models_table} ( json_dict varchar ) \", engine, verbose=True)"
   ]
  },
  {
   "cell_type": "code",
   "execution_count": null,
   "id": "8a309dc8-44a9-44cd-9024-6c683b75c6d6",
   "metadata": {},
   "outputs": [],
   "source": []
  }
 ],
 "metadata": {
  "kernelspec": {
   "display_name": "Python 3 (ipykernel)",
   "language": "python",
   "name": "python3"
  },
  "language_info": {
   "codemirror_mode": {
    "name": "ipython",
    "version": 3
   },
   "file_extension": ".py",
   "mimetype": "text/x-python",
   "name": "python",
   "nbconvert_exporter": "python",
   "pygments_lexer": "ipython3",
   "version": "3.8.8"
  }
 },
 "nbformat": 4,
 "nbformat_minor": 5
}
