{
 "cells": [
  {
   "cell_type": "markdown",
   "id": "d8886db0-457f-42a3-9e80-eae1650a299e",
   "metadata": {},
   "source": [
    "# PCAF Data Pipeline to ingest the data provided by EDGAR (fossil CO2 values)\n",
    "\n",
    "The source excel file contains 5 sheets and parsed&transposed using the configuration data saved in the file \"Edgar.ini\".\n",
    "\n",
    "The output first saved in a CSV file and afterwards copied in a dataframe and saved in a database table containing the fields \"provider,attribute,value,unit\".\n"
   ]
  },
  {
   "cell_type": "code",
   "execution_count": null,
   "id": "3973ceb4-5b37-4a79-b854-3bee1cb89998",
   "metadata": {},
   "outputs": [],
   "source": [
    "# 'capture' magic prevents long outputs from spamming your notebook\n",
    "#%%capture pipoutput\n",
    "\n",
    "# For loading predefined environment variables from files\n",
    "# Typically used to load sensitive access credentials\n",
    "%pip install python-dotenv\n",
    "\n",
    "# Standard python package for interacting with S3 buckets\n",
    "%pip install boto3\n",
    "\n",
    "# Interacting with Trino and using Trino with sqlalchemy\n",
    "%pip install trino sqlalchemy sqlalchemy-trino\n",
    "\n",
    "# Pandas and parquet file i/o\n",
    "%pip install pandas pyarrow fastparquet\n",
    "\n",
    "# OS-Climate utilities to make data ingest easier\n",
    "%pip install osc-ingest-tools\n",
    "# install pycountry to retrieve ISO codes\n",
    "%pip install jedi==0.17.2\n",
    "%pip install -U \"ipython>=7.20\"\n",
    "%pip install pycountry\n",
    "%pip install country-converter\n",
    "\n"
   ]
  },
  {
   "cell_type": "code",
   "execution_count": null,
   "id": "5eda7d2a-f40d-430b-9549-24021eb5099b",
   "metadata": {},
   "outputs": [],
   "source": [
    "from dotenv import dotenv_values, load_dotenv\n",
    "import osc_ingest_trino as osc\n",
    "import os\n",
    "import pathlib"
   ]
  },
  {
   "cell_type": "markdown",
   "id": "5c47c9d2-b0ac-4f6e-bba9-c5cf71ff0bcf",
   "metadata": {},
   "source": [
    "### Load Environment Variables"
   ]
  },
  {
   "cell_type": "code",
   "execution_count": null,
   "id": "32b2bef2-3016-41ce-94ad-fee44289de83",
   "metadata": {},
   "outputs": [],
   "source": [
    "dotenv_dir = os.environ.get('CREDENTIAL_DOTENV_DIR', os.environ.get('PWD', '/opt/app-root/src'))\n",
    "dotenv_path = pathlib.Path(dotenv_dir) / 'credentials.env'\n",
    "if os.path.exists(dotenv_path):\n",
    "    load_dotenv(dotenv_path=dotenv_path,override=True)"
   ]
  },
  {
   "cell_type": "code",
   "execution_count": null,
   "id": "069122c2-1609-44fc-9dfa-8ba218443e3d",
   "metadata": {},
   "outputs": [],
   "source": [
    "# use a catalog that is configured for iceberg\n",
    "ingest_catalog = 'osc_datacommons_iceberg_dev'\n",
    "ingest_schema = 'sandbox'\n",
    "ingest_table = 'pcaf_sovereign_edgar'"
   ]
  },
  {
   "cell_type": "code",
   "execution_count": null,
   "id": "08e93fa5-0ee5-42f6-a7cd-05486f20f74e",
   "metadata": {},
   "outputs": [],
   "source": [
    "import trino\n",
    "from sqlalchemy.engine import create_engine\n",
    "\n",
    "env_var_prefix = 'TRINO'\n",
    "\n",
    "sqlstring = 'trino://{user}@{host}:{port}/'.format(\n",
    "    user = os.environ[f'{env_var_prefix}_USER'],\n",
    "    host = os.environ[f'{env_var_prefix}_HOST'],\n",
    "    port = os.environ[f'{env_var_prefix}_PORT']\n",
    ")\n",
    "sqlargs = {\n",
    "    'auth': trino.auth.JWTAuthentication(os.environ[f'{env_var_prefix}_PASSWD']),\n",
    "    'http_scheme': 'https',\n",
    "    'catalog': 'osc_datacommons_iceberg_dev'\n",
    "}\n",
    "engine = create_engine(sqlstring, connect_args = sqlargs)\n",
    "connection = engine.connect()\n",
    "\n",
    "trino_bucket = osc.attach_s3_bucket(\"S3_DEV\")"
   ]
  },
  {
   "cell_type": "code",
   "execution_count": null,
   "id": "32427c61-4905-4e42-b6f3-196be697cca5",
   "metadata": {},
   "outputs": [],
   "source": [
    "import boto3\n",
    "\n",
    "s3_source = boto3.resource(\n",
    "    service_name=\"s3\",\n",
    "    endpoint_url=os.environ['S3_LANDING_ENDPOINT'],\n",
    "    aws_access_key_id=os.environ['S3_LANDING_ACCESS_KEY'],\n",
    "    aws_secret_access_key=os.environ['S3_LANDING_SECRET_KEY'],\n",
    ")\n",
    "source_bucket = s3_source.Bucket(os.environ['S3_LANDING_BUCKET'])"
   ]
  },
  {
   "cell_type": "code",
   "execution_count": null,
   "id": "94f8b3fb-b2b9-45ce-9d57-2cff6d16232d",
   "metadata": {},
   "outputs": [],
   "source": [
    "Open a Trino connection using JWT for authentication"
   ]
  },
  {
   "cell_type": "code",
   "execution_count": null,
   "id": "ca2420a4-3d9f-49ba-9e10-f2544e66b71b",
   "metadata": {},
   "outputs": [],
   "source": [
    "# make sure schema exists, or table creation below will fail in weird ways\n",
    "sql = f\"\"\"\n",
    "create schema if not exists {ingest_catalog}.{ingest_schema}\n",
    "\"\"\"\n",
    "qres = engine.execute(sql)\n",
    "print(qres.fetchall())"
   ]
  },
  {
   "cell_type": "code",
   "execution_count": null,
   "id": "5e1600bb-66ae-4206-818e-000c5d336347",
   "metadata": {},
   "outputs": [],
   "source": [
    "# Show available schemas to ensure trino connection is set correctly\n",
    "schema_read = engine.execute(f'show schemas in {ingest_catalog}')\n",
    "for row in schema_read.fetchall():\n",
    "    print(row)"
   ]
  },
  {
   "cell_type": "code",
   "execution_count": null,
   "id": "6543a521-d8d6-4222-9df5-8a8ab584a233",
   "metadata": {},
   "outputs": [],
   "source": []
  },
  {
   "cell_type": "code",
   "execution_count": null,
   "id": "1801d4cb-91e3-4399-9d98-cec1efe91465",
   "metadata": {},
   "outputs": [],
   "source": [
    "Load GDP file (updated sporadically from https://data.worldbank.org/indicator/NY.GDP.PCAP.PP.CD)"
   ]
  },
  {
   "cell_type": "code",
   "execution_count": null,
   "id": "2fb07a12-d0d2-4231-90b8-cb86e56bd44a",
   "metadata": {},
   "outputs": [],
   "source": [
    "import pandas as pd\n",
    "import warnings\n",
    "warnings.filterwarnings('ignore')\n",
    "\n",
    "ticker_file = s3_source.Object(os.environ['S3_LANDING_BUCKET'],'PCAF-sovereign-footprint/EDGAR/EDGARv6.0_FT2020_fossil_CO2_GHG_booklet2021.xls')\n",
    "ticker_file.download_file(f'/tmp/EDGARv6.0_FT2020_fossil_CO2_GHG_booklet2021.xls')\n",
    "%run TransposeXLS.py --config Edgar.ini --output=EDGAR.csv \n",
    "df = pd.read_csv('EDGAR.csv')\n",
    "df= df[['rec_source','data_provider','country_iso_code','country_name','validity_date','attribute','value','unit']].dropna(subset=['value'])\n",
    "#df[\"country_iso_code\"]='###'\n",
    "#df.validity_date = df.validity_date.astype(str)\n",
    "df = df.convert_dtypes()\n",
    "print(df.info(verbose=True))\n",
    "df\n",
    "#df\n"
   ]
  },
  {
   "cell_type": "code",
   "execution_count": null,
   "id": "5b77e640-3ea7-4e3f-8154-b87e5c08e554",
   "metadata": {},
   "outputs": [],
   "source": [
    "# EDGAR does not deliver ISO codes , set the field using pycountry\n",
    "\n",
    "\n",
    "import pycountry  as c\n",
    "import country_converter as coco\n",
    "\n",
    "def getCountryISOCode(country_name):\n",
    "    try:\n",
    "        country=c.countries.search_fuzzy(country_name)\n",
    "        if country is None:\n",
    "            print(country_name)\n",
    "            return \"###\"\n",
    "        else:\n",
    "            return country[0].alpha_3\n",
    "    except:\n",
    "        print(country_name);\n",
    "        return \"###\"\n",
    "\n",
    "    \n",
    "cc = coco.CountryConverter()\n",
    "\n",
    "#some_names = ['Democratic Republic of the Congo']\n",
    "#some_names = ['Germany']\n",
    "df[\"country_iso_code\"] = cc.convert(names = df[\"country_name\"], to = 'ISO3')\n",
    "df\n",
    "    \n",
    "#df[\"country_conv_name\"] = df[\"country_name\"].apply(lambda x: getCountryISOCode(x))\n",
    "\n",
    "#c.countries.search_fuzzy('Democratic Republic of the Congo')   \n",
    "#c.countries.search_fuzzy('Congo')   \n",
    "\n",
    "#c.countries.search_fuzzy('Germany')   \n",
    "\n",
    "    \n",
    "#df[\"country_iso_code\"] = df[\"country_name\"].apply(lambda x: getCountryISOCode(x))\n",
    "#df\n",
    "\n",
    "\n",
    "\n",
    "\n"
   ]
  },
  {
   "cell_type": "code",
   "execution_count": null,
   "id": "84aff2fd-aa22-47bd-9ec4-98acdf3867ed",
   "metadata": {},
   "outputs": [],
   "source": []
  },
  {
   "cell_type": "code",
   "execution_count": null,
   "id": "1086e118-9ed7-451e-8aa0-8a46437eec5e",
   "metadata": {},
   "outputs": [],
   "source": []
  },
  {
   "cell_type": "code",
   "execution_count": null,
   "id": "ca3306d2-924f-472b-80d6-cdf86a91a22f",
   "metadata": {},
   "outputs": [],
   "source": [
    "import osc_ingest_trino as osc\n",
    "columnschema = osc.create_table_schema_pairs(df) \n",
    "\n",
    "sql = f\"\"\"\n",
    "drop table if exists {ingest_catalog}.{ingest_schema}.{ingest_table}\n",
    "\"\"\"\n",
    "print(sql)\n",
    "qres = engine.execute(sql)\n",
    "print(qres.fetchall())\n"
   ]
  },
  {
   "cell_type": "code",
   "execution_count": null,
   "id": "8e65e726-33c2-4821-8582-fddb4cd43f69",
   "metadata": {},
   "outputs": [],
   "source": [
    "tabledef = f\"\"\"\n",
    "create table if not exists {ingest_catalog}.{ingest_schema}.{ingest_table}(\n",
    "{columnschema}\n",
    ") with (\n",
    "    format = 'ORC',\n",
    "    partitioning = array['validity_date']\n",
    ")\n",
    "\"\"\"\n",
    "print(tabledef)\n",
    "qres = engine.execute(tabledef)\n",
    "print(qres.fetchall())"
   ]
  },
  {
   "cell_type": "code",
   "execution_count": null,
   "id": "1b4f212a-533d-45c3-9314-309c067bf393",
   "metadata": {},
   "outputs": [],
   "source": [
    "# Delete all data from our db, so we start with empty table\n",
    "sql=f\"\"\"\n",
    "delete from {ingest_catalog}.{ingest_schema}.{ingest_table}\n",
    "\"\"\"\n",
    "qres = engine.execute(sql)\n",
    "print(qres.fetchall())"
   ]
  },
  {
   "cell_type": "code",
   "execution_count": null,
   "id": "d78a282a-e16b-4e3d-9398-46a72eebf197",
   "metadata": {},
   "outputs": [],
   "source": [
    "sql=f\"\"\"\n",
    "select * from {ingest_catalog}.{ingest_schema}.{ingest_table}\n",
    "\"\"\"\n",
    "pd.read_sql(sql, engine)\n"
   ]
  },
  {
   "cell_type": "code",
   "execution_count": null,
   "id": "8c51c0c2-1f5a-44c2-82c0-e6f397d8bbc2",
   "metadata": {},
   "outputs": [],
   "source": [
    "print(ingest_catalog)\n",
    "#df=df.drop(df[df.country_name==\"cote d'ivoire\"].index)\n",
    "#df[\"country_iso_code\"]='###'\n",
    "#df.validity_date = df.validity_date.astype(str)\n",
    "df.to_sql(ingest_table,\n",
    "           con=engine, \n",
    "           schema=ingest_schema,\n",
    "           if_exists='append',\n",
    "           index=False,\n",
    "           method=osc.TrinoBatchInsert(batch_size = 5000, verbose = True))"
   ]
  },
  {
   "cell_type": "code",
   "execution_count": null,
   "id": "080e8a85-785d-4f52-97f6-0573e7d08b61",
   "metadata": {},
   "outputs": [],
   "source": [
    "sql=f\"\"\"\n",
    "select * from {ingest_catalog}.{ingest_schema}.{ingest_table}\" + \"where validity_date=2020 and attribute='fossil_CO2_totals_by_country'\"\"\"\n",
    "pd.read_sql(sql, engine)\n",
    "#attribute='fossil_CO2_totals_by_country'\n"
   ]
  },
  {
   "cell_type": "code",
   "execution_count": null,
   "id": "91781e62-2cbc-4a05-929c-17772c4c1404",
   "metadata": {},
   "outputs": [],
   "source": []
  },
  {
   "cell_type": "code",
   "execution_count": null,
   "id": "74d45044-1ea2-419a-aa71-32af9cf9b7ee",
   "metadata": {},
   "outputs": [],
   "source": []
  },
  {
   "cell_type": "code",
   "execution_count": null,
   "id": "aea4e66d-eef4-492a-8ace-ca760940708b",
   "metadata": {},
   "outputs": [],
   "source": []
  }
 ],
 "metadata": {
  "kernelspec": {
   "display_name": "Python 3 (ipykernel)",
   "language": "python",
   "name": "python3"
  },
  "language_info": {
   "codemirror_mode": {
    "name": "ipython",
    "version": 3
   },
   "file_extension": ".py",
   "mimetype": "text/x-python",
   "name": "python",
   "nbconvert_exporter": "python",
   "pygments_lexer": "ipython3",
   "version": "3.8.8"
  }
 },
 "nbformat": 4,
 "nbformat_minor": 5
}
