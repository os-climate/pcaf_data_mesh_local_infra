{
 "cells": [
  {
   "cell_type": "code",
   "execution_count": 1,
   "id": "7b88e2ab-2a1c-4b75-b759-ef36819934a6",
   "metadata": {},
   "outputs": [
    {
     "name": "stdout",
     "output_type": "stream",
     "text": [
      "Requirement already satisfied: minio in /opt/conda/lib/python3.8/site-packages (7.1.17)\n",
      "Requirement already satisfied: certifi in /opt/conda/lib/python3.8/site-packages (from minio) (2022.12.7)\n",
      "Requirement already satisfied: urllib3 in /opt/conda/lib/python3.8/site-packages (from minio) (1.26.15)\n",
      "Note: you may need to restart the kernel to use updated packages.\n",
      "Requirement already satisfied: python-dotenv in /opt/conda/lib/python3.8/site-packages (1.0.0)\n",
      "Note: you may need to restart the kernel to use updated packages.\n"
     ]
    }
   ],
   "source": [
    "%pip install minio\n",
    "%pip install python-dotenv"
   ]
  },
  {
   "cell_type": "code",
   "execution_count": 2,
   "id": "77164008-0ea5-413b-9f15-475841f8ebc4",
   "metadata": {},
   "outputs": [],
   "source": [
    "from minio import Minio\n",
    "from dotenv import load_dotenv\n",
    "import os\n"
   ]
  },
  {
   "cell_type": "code",
   "execution_count": 11,
   "id": "169571a7-286c-4cbf-b449-0a3aa796fc6e",
   "metadata": {},
   "outputs": [],
   "source": [
    "load_dotenv()\n",
    "LOCAL_FILE_PATH = '/home/jovyan/work/UNFCCC_without_LULUCF.csv'\n",
    "MINIO_ACCESS_KEY = os.getenv('MINIO_ACCESS_KEY')\n",
    "MINIO_SECRET_KEY = os.getenv('MINIO_SECRET_KEY')\n",
    "MINIO_API_HOST = \"minio:9000\"\n",
    "MINIO_CLIENT = Minio(\"minio:9000\", access_key=MINIO_ACCESS_KEY, secret_key=MINIO_SECRET_KEY, secure=False)\n",
    "def main():\n",
    "    found = MINIO_CLIENT.bucket_exists(\"datalake\")\n",
    "    if not found:\n",
    "       MINIO_CLIENT.make_bucket(\"datalake\")\n",
    "    else:\n",
    "       print(\"Bucket already exists\")\n",
    "    MINIO_CLIENT.fput_object(\"datalake\", \"/UNFCCC_without_LULUCF/UNFCCC_without_LULUCF.csv\", '/home/jovyan/work/UNFCCC_without_LULUCF.csv')\n",
    "    print(\"It is successfully uploaded to bucket\")\n",
    "    "
   ]
  },
  {
   "cell_type": "code",
   "execution_count": 12,
   "id": "08a63839-3e11-4276-afd8-7736d2fde016",
   "metadata": {},
   "outputs": [
    {
     "name": "stdout",
     "output_type": "stream",
     "text": [
      "Bucket already exists\n",
      "It is successfully uploaded to bucket\n"
     ]
    }
   ],
   "source": [
    "main()\n",
    "\n"
   ]
  },
  {
   "cell_type": "code",
   "execution_count": null,
   "id": "d8b6e214-0f28-4e14-9436-b6ac766e6bd6",
   "metadata": {},
   "outputs": [],
   "source": []
  },
  {
   "cell_type": "code",
   "execution_count": null,
   "id": "6ab0b738-23a2-40f1-be11-465a925019ee",
   "metadata": {},
   "outputs": [],
   "source": []
  }
 ],
 "metadata": {
  "kernelspec": {
   "display_name": "Python 3 (ipykernel)",
   "language": "python",
   "name": "python3"
  },
  "language_info": {
   "codemirror_mode": {
    "name": "ipython",
    "version": 3
   },
   "file_extension": ".py",
   "mimetype": "text/x-python",
   "name": "python",
   "nbconvert_exporter": "python",
   "pygments_lexer": "ipython3",
   "version": "3.8.13"
  }
 },
 "nbformat": 4,
 "nbformat_minor": 5
}
